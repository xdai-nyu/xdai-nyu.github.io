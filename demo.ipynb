{
  "nbformat": 4,
  "nbformat_minor": 0,
  "metadata": {
    "colab": {
      "provenance": [],
      "gpuType": "T4"
    },
    "kernelspec": {
      "name": "python3",
      "display_name": "Python 3"
    },
    "language_info": {
      "name": "python"
    },
    "accelerator": "GPU"
  },
  "cells": [
    {
      "cell_type": "markdown",
      "metadata": {
        "id": "-SbOEh4Ycm7t"
      },
      "source": [
        "# Instructions\n",
        "## Running demo\n",
        "1. Select `Runtime` from the menu bar.\n",
        "2. In the dropdown menu, select `Run all`."
      ]
    },
    {
      "cell_type": "code",
      "source": [
        "!pip install websockets==14.2"
      ],
      "metadata": {
        "id": "MHFVZAkjcpIs"
      },
      "execution_count": null,
      "outputs": []
    },
    {
      "cell_type": "code",
      "execution_count": null,
      "metadata": {
        "id": "-kK-FBpScm7u"
      },
      "outputs": [],
      "source": [
        "import sys\n",
        "from threading import Thread\n",
        "from IPython.display import HTML\n",
        "from IPython.display import clear_output\n",
        "\n",
        "msg = \"\"\"\n",
        "<div style='color: red; font-size: 25px; font-weight: bold; background-color: yellow;'>\n",
        "Loading model: this will take a few minutes..\n",
        "</div>\n",
        "\"\"\"\n",
        "display(HTML(msg))\n",
        "\n",
        "!git clone https://github.com/touretzkyds/DiffusionDemo\n",
        "!pip install -r DiffusionDemo/requirements.txt -q\n",
        "sys.path.append('/content/DiffusionDemo/')\n",
        "\n",
        "from run import run_gradio, run_dash\n",
        "\n",
        "thread = Thread(target=run_dash)\n",
        "thread.daemon = True\n",
        "thread.start()\n",
        "try:\n",
        "    msg = \"\"\"\n",
        "    <div style='color: red; font-size: 25px; font-weight: bold; background-color: yellow;'>\n",
        "    Model is ready: click on the gradio.live public URL below.\n",
        "    </div>\n",
        "    \"\"\"\n",
        "    url = run_gradio()\n",
        "    clear_output()\n",
        "    display(HTML(msg))\n",
        "    print(url)\n",
        "except KeyboardInterrupt:\n",
        "    print(\"Server closed\")"
      ]
    },
    {
      "cell_type": "markdown",
      "metadata": {
        "id": "qRlfV3jdcm7u"
      },
      "source": [
        "## Viewing demo\n",
        "After running the code, wait for few minutes to see the gradio link (example: `https://a9691b8cc2d0fba1db.gradio.live/`) and click on it."
      ]
    }
  ]
}